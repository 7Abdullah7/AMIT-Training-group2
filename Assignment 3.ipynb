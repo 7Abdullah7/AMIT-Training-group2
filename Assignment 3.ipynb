{
 "cells": [
  {
   "cell_type": "markdown",
   "metadata": {},
   "source": [
    "# Assignment 3"
   ]
  },
  {
   "cell_type": "markdown",
   "metadata": {},
   "source": [
    "### Write a function to count the number 4 in a given list."
   ]
  },
  {
   "cell_type": "code",
   "execution_count": 33,
   "metadata": {},
   "outputs": [
    {
     "name": "stdout",
     "output_type": "stream",
     "text": [
      "Enter the list of numbers : 5 32 3 7 8 9\n",
      "there is no number 4 in the list\n"
     ]
    }
   ],
   "source": [
    "def count(x):\n",
    "    \n",
    "    counter=0 \n",
    "    \n",
    "    for i in range(0,len(x)):\n",
    "        \n",
    "        if x[i]==4:\n",
    "            counter+=1\n",
    "            \n",
    "    if counter!=0:\n",
    "        print('the count of number 4 in the list: {}'.format(counter))\n",
    "    \n",
    "    else:\n",
    "        print('there is no number 4 in the list')\n",
    "        \n",
    "    \n",
    "    \n",
    "x=list(map(int,input(\"Enter the list of numbers : \").split()))\n",
    "\n",
    "count(x)\n"
   ]
  },
  {
   "cell_type": "markdown",
   "metadata": {},
   "source": [
    "### write a  function to check whether a number is divisible by another number."
   ]
  },
  {
   "cell_type": "code",
   "execution_count": 35,
   "metadata": {},
   "outputs": [
    {
     "name": "stdout",
     "output_type": "stream",
     "text": [
      "please enter your frist number 20\n",
      "please enter your second number 5\n",
      "True\n"
     ]
    }
   ],
   "source": [
    "def div(x,y):\n",
    "    \n",
    "    return True if x % y == 0 else False\n",
    "\n",
    "x=int(input('please enter your frist number '))\n",
    "y=int(input('please enter your second number '))\n",
    "\n",
    "print(div(x,y))\n"
   ]
  },
  {
   "cell_type": "markdown",
   "metadata": {},
   "source": [
    "### write a function to find the maximum and minimum numbers from a sequence of numbers."
   ]
  },
  {
   "cell_type": "code",
   "execution_count": 37,
   "metadata": {},
   "outputs": [
    {
     "name": "stdout",
     "output_type": "stream",
     "text": [
      "Enter the list of numbers : 5 4 60 77 9 5 5 2 4 7 -5 \n",
      "max is : 77 \n",
      "min is : -5\n"
     ]
    }
   ],
   "source": [
    "def maxmin(x):\n",
    "    \n",
    "    x.sort()\n",
    "    \n",
    "    print('max is : {} \\nmin is : {}'.format(x[-1],x[0]))\n",
    "\n",
    "    \n",
    "x=list(map(int,input(\"Enter the list of numbers : \").split()))\n",
    "\n",
    "maxmin(x)\n"
   ]
  },
  {
   "cell_type": "markdown",
   "metadata": {},
   "source": [
    "### Write a Python function that takes two lists and returns True if they have at least one common member."
   ]
  },
  {
   "cell_type": "code",
   "execution_count": 48,
   "metadata": {},
   "outputs": [
    {
     "name": "stdout",
     "output_type": "stream",
     "text": [
      "False\n",
      "True\n"
     ]
    }
   ],
   "source": [
    "def common(lst1,lst2):\n",
    "    for x in lst1:\n",
    "        \n",
    "        if x in lst2:\n",
    "            return True\n",
    "        \n",
    "    return False    \n",
    "\n",
    "print(common([1,2,5,7,8,20], [40,9,77,10]))\n",
    "\n",
    "print(common([1,2,5,7,8,20], [7,40,9,77,]))\n",
    "\n"
   ]
  },
  {
   "cell_type": "code",
   "execution_count": 49,
   "metadata": {},
   "outputs": [
    {
     "name": "stdout",
     "output_type": "stream",
     "text": [
      "Enter the first list of numbers : 4 8 5 7 1\n",
      "Enter the second list of numbers : 4 7 2 3 1\n",
      "The common member is:  [4, 7, 1]\n"
     ]
    }
   ],
   "source": [
    "#function that takes two lists and returns common member if they have at least one common member.\n",
    "def common(lst1,lst2):\n",
    "    \n",
    "    z=[]   #list to save common members in it\n",
    "    \n",
    "    result = False  \n",
    "    \n",
    "    for x in lst1:\n",
    "        \n",
    "        if x in lst2:\n",
    "            \n",
    "            z.append(x)\n",
    "            result = True\n",
    "            \n",
    "    if result == True:\n",
    "        \n",
    "        print ('The common member is: ',z)\n",
    "        \n",
    "    else:\n",
    "        \n",
    "        print('There is no common member')\n",
    "            \n",
    "            \n",
    "lst1=list(map(int,input(\"Enter the first list of numbers : \").split()))\n",
    "lst2=list(map(int,input(\"Enter the second list of numbers : \").split()))\n",
    "\n",
    "common(lst1,lst2)\n"
   ]
  },
  {
   "cell_type": "markdown",
   "metadata": {},
   "source": [
    "### Write a Python function to calculate the factorial of a number (a non-negative integer). The function accepts the number from the user"
   ]
  },
  {
   "cell_type": "code",
   "execution_count": 51,
   "metadata": {},
   "outputs": [
    {
     "name": "stdout",
     "output_type": "stream",
     "text": [
      "Input a number to compute the factiorial : -4\n",
      "math error the number must be positive\n"
     ]
    }
   ],
   "source": [
    "def factorial(n):\n",
    "    \n",
    "    if n<0:\n",
    "        return 'math error the number must be positive'\n",
    "    \n",
    "    elif n == 0:\n",
    "        return 1\n",
    "    \n",
    "    else:\n",
    "        return n * factorial(n-1)\n",
    "    \n",
    "n=int(input(\"Input a number to compute the factiorial : \"))\n",
    "\n",
    "print(factorial(n))\n"
   ]
  },
  {
   "cell_type": "markdown",
   "metadata": {},
   "source": [
    "### Write a Python function to check whether a number is in a given range.\n",
    "\n",
    "### The range is from 3 to 11\n"
   ]
  },
  {
   "cell_type": "code",
   "execution_count": 53,
   "metadata": {},
   "outputs": [
    {
     "name": "stdout",
     "output_type": "stream",
     "text": [
      "5  is in the range\n",
      "The number is outside the given range.\n"
     ]
    }
   ],
   "source": [
    "def test_range(n):\n",
    "    if n in range(3,9):\n",
    "        print( n,\" is in the range\")\n",
    "    else :\n",
    "        print(\"The number is outside the given range.\")\n",
    "        \n",
    "test_range(5)\n",
    "test_range(2)"
   ]
  },
  {
   "cell_type": "markdown",
   "metadata": {},
   "source": [
    "### Write a  program to create the multiplication table (from 1 to 10) of a number."
   ]
  },
  {
   "cell_type": "code",
   "execution_count": 56,
   "metadata": {},
   "outputs": [
    {
     "name": "stdout",
     "output_type": "stream",
     "text": [
      "Input a number: 7\n",
      "7 * 1 = 7\n",
      "7 * 2 = 14\n",
      "7 * 3 = 21\n",
      "7 * 4 = 28\n",
      "7 * 5 = 35\n",
      "7 * 6 = 42\n",
      "7 * 7 = 49\n",
      "7 * 8 = 56\n",
      "7 * 9 = 63\n",
      "7 * 10 = 70\n"
     ]
    }
   ],
   "source": [
    "def multi_table(x):\n",
    "    \n",
    "    for i in range(1,11):\n",
    "        \n",
    "        print(x,'*',i,'=',x*i)\n",
    "\n",
    "\n",
    "x = int(input(\"Input a number: \"))\n",
    "\n",
    "multi_table(x)\n",
    "   "
   ]
  },
  {
   "cell_type": "markdown",
   "metadata": {},
   "source": [
    "#### LESSER OF TWO EVENS: Write a function that returns the lesser of two given numbers *if* both numbers are even, but returns the greater if one or both numbers are odd\n",
    "    lesser_of_two_evens(2,4) --> 2\n",
    "    lesser_of_two_evens(2,5) --> 5"
   ]
  },
  {
   "cell_type": "code",
   "execution_count": 64,
   "metadata": {},
   "outputs": [
    {
     "name": "stdout",
     "output_type": "stream",
     "text": [
      "2\n",
      "5\n"
     ]
    }
   ],
   "source": [
    "def lesser_of_two_evens(a,b):\n",
    "    \n",
    "    if a % 2==0 and b % 2== 0:\n",
    "        \n",
    "        if a < b:\n",
    "            print(a)\n",
    "            \n",
    "        else:\n",
    "            print(b) \n",
    "            \n",
    "    else:\n",
    "        \n",
    "        if a < b:\n",
    "            print(b)\n",
    "            \n",
    "        else:\n",
    "            print(a)    \n",
    "\n",
    "lesser_of_two_evens(2,4)\n",
    "lesser_of_two_evens(2,5)"
   ]
  },
  {
   "cell_type": "code",
   "execution_count": null,
   "metadata": {},
   "outputs": [],
   "source": []
  }
 ],
 "metadata": {
  "kernelspec": {
   "display_name": "Python 3 (ipykernel)",
   "language": "python",
   "name": "python3"
  },
  "language_info": {
   "codemirror_mode": {
    "name": "ipython",
    "version": 3
   },
   "file_extension": ".py",
   "mimetype": "text/x-python",
   "name": "python",
   "nbconvert_exporter": "python",
   "pygments_lexer": "ipython3",
   "version": "3.9.12"
  }
 },
 "nbformat": 4,
 "nbformat_minor": 2
}
